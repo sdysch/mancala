{
 "cells": [
  {
   "cell_type": "markdown",
   "id": "4293dd72-7988-426a-9545-dfc777a0a055",
   "metadata": {},
   "source": [
    "# Investigating depth parameter of min_max strategy, with/without alpha-beta pruning\n",
    "* Player 1 strategy min_max\n",
    "* Player 2 strategy: max_score\n",
    "* player 2 strategy is intelligent enough have a lose rate that is not 0, but will not also improve with depth\n",
    "    * I.e., don't compare min_max vs min_max\n",
    "* Allows us to compare how min_max improves with depth\n"
   ]
  },
  {
   "cell_type": "code",
   "execution_count": 1,
   "id": "251642a4-4e68-4128-aac6-bc3a2280df0b",
   "metadata": {},
   "outputs": [],
   "source": [
    "import pandas as pd\n",
    "import numpy as np\n",
    "import seaborn as sns\n",
    "import matplotlib.pyplot as plt\n",
    "\n",
    "data = pd.read_csv('../data/time_min_max_vs_depth.csv')"
   ]
  },
  {
   "cell_type": "code",
   "execution_count": 2,
   "id": "7df0fd7c-068d-4c62-8502-b4cc4ad0fd8b",
   "metadata": {},
   "outputs": [
    {
     "name": "stdout",
     "output_type": "stream",
     "text": [
      "[0. 1. 2. 3. 4. 5. 6.]\n"
     ]
    }
   ],
   "source": [
    "depths = np.sort( data['depth'].unique() )\n",
    "print(depths)"
   ]
  },
  {
   "cell_type": "code",
   "execution_count": 4,
   "id": "8a41de66-10c8-4abd-be98-c7e91edc6ac3",
   "metadata": {},
   "outputs": [
    {
     "data": {
      "image/png": "[encoded data removed]",
      "text/plain": [
       "<Figure size 504x504 with 1 Axes>"
      ]
     },
     "metadata": {
      "needs_background": "light"
     },
     "output_type": "display_data"
    }
   ],
   "source": [
    "probs_depth = pd.DataFrame(columns=['win', 'lose', 'draw'], index=depths, dtype=float)\n",
    "\n",
    "for depth in depths:\n",
    "    view = data[ data['depth'] == depth ]\n",
    "    norm = len(view)\n",
    "    \n",
    "    probs_depth['win'].loc[depth]  = len(view[ view['player_1_result'] == 'win' ]) / norm\n",
    "    probs_depth['lose'].loc[depth] = len(view[ view['player_1_result'] == 'lose' ]) / norm\n",
    "    probs_depth['draw'].loc[depth] = len(view[ view['player_1_result'] == 'draw' ]) / norm\n",
    "    \n",
    "fig, ax = plt.subplots(1, 1, figsize=(7, 7))\n",
    "\n",
    "ax.bar(probs_depth.index, probs_depth['win'],  label='Player 1 win')\n",
    "ax.bar(probs_depth.index, probs_depth['lose'], label='Player 1 lose', bottom=probs_depth['win'])\n",
    "ax.bar(probs_depth.index, probs_depth['draw'], label='Player 1 draw', bottom=probs_depth['win']+probs_depth['lose'])\n",
    "\n",
    "ax.set_xlabel('Depth')\n",
    "ax.set_ylabel('Probability')\n",
    "\n",
    "plt.legend(loc='best')\n",
    "\n",
    "plt.show()"
   ]
  },
  {
   "cell_type": "code",
   "execution_count": null,
   "id": "9536b25a-1a33-4e8a-9451-a405185998a9",
   "metadata": {},
   "outputs": [],
   "source": []
  }
 ],
 "metadata": {
  "kernelspec": {
   "display_name": "Python 3 (ipykernel)",
   "language": "python",
   "name": "python3"
  },
  "language_info": {
   "codemirror_mode": {
    "name": "ipython",
    "version": 3
   },
   "file_extension": ".py",
   "mimetype": "text/x-python",
   "name": "python",
   "nbconvert_exporter": "python",
   "pygments_lexer": "ipython3",
   "version": "3.8.10"
  }
 },
 "nbformat": 4,
 "nbformat_minor": 5
}
