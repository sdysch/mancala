{
 "cells": [
  {
   "cell_type": "markdown",
   "id": "4533b0d9-8d41-441c-a753-e9427b5f50b0",
   "metadata": {},
   "source": [
    "# Analysis of Mancala simulations"
   ]
  },
  {
   "cell_type": "code",
   "execution_count": 20,
   "id": "a69b1605-1f84-4843-be7e-3bb38b773959",
   "metadata": {},
   "outputs": [],
   "source": [
    "# imports\n",
    "import pandas as pd\n",
    "import numpy as np\n",
    "import matplotlib.pyplot as plt"
   ]
  },
  {
   "cell_type": "code",
   "execution_count": 21,
   "id": "851b23e2-b9b9-464c-8658-97538260091a",
   "metadata": {},
   "outputs": [
    {
     "data": {
      "text/html": [
       "<div>\n",
       "<style scoped>\n",
       "    .dataframe tbody tr th:only-of-type {\n",
       "        vertical-align: middle;\n",
       "    }\n",
       "\n",
       "    .dataframe tbody tr th {\n",
       "        vertical-align: top;\n",
       "    }\n",
       "\n",
       "    .dataframe thead th {\n",
       "        text-align: right;\n",
       "    }\n",
       "</style>\n",
       "<table border=\"1\" class=\"dataframe\">\n",
       "  <thead>\n",
       "    <tr style=\"text-align: right;\">\n",
       "      <th></th>\n",
       "      <th>player_1_score</th>\n",
       "      <th>player_2_score</th>\n",
       "      <th>player_1_moves</th>\n",
       "      <th>player_2_moves</th>\n",
       "      <th>total_moves</th>\n",
       "      <th>n_start_marbles</th>\n",
       "      <th>n_cups</th>\n",
       "      <th>first_move</th>\n",
       "    </tr>\n",
       "  </thead>\n",
       "  <tbody>\n",
       "    <tr>\n",
       "      <th>count</th>\n",
       "      <td>250000.000000</td>\n",
       "      <td>250000.000000</td>\n",
       "      <td>250000.000000</td>\n",
       "      <td>250000.000000</td>\n",
       "      <td>250000.000000</td>\n",
       "      <td>250000.0</td>\n",
       "      <td>250000.0</td>\n",
       "      <td>250000.000000</td>\n",
       "    </tr>\n",
       "    <tr>\n",
       "      <th>mean</th>\n",
       "      <td>26.284656</td>\n",
       "      <td>21.715344</td>\n",
       "      <td>53.146928</td>\n",
       "      <td>43.451508</td>\n",
       "      <td>96.598436</td>\n",
       "      <td>4.0</td>\n",
       "      <td>6.0</td>\n",
       "      <td>3.486100</td>\n",
       "    </tr>\n",
       "    <tr>\n",
       "      <th>std</th>\n",
       "      <td>6.794640</td>\n",
       "      <td>6.794640</td>\n",
       "      <td>13.874382</td>\n",
       "      <td>14.368743</td>\n",
       "      <td>14.867880</td>\n",
       "      <td>0.0</td>\n",
       "      <td>0.0</td>\n",
       "      <td>1.720122</td>\n",
       "    </tr>\n",
       "    <tr>\n",
       "      <th>min</th>\n",
       "      <td>7.000000</td>\n",
       "      <td>4.000000</td>\n",
       "      <td>6.000000</td>\n",
       "      <td>4.000000</td>\n",
       "      <td>26.000000</td>\n",
       "      <td>4.0</td>\n",
       "      <td>6.0</td>\n",
       "      <td>1.000000</td>\n",
       "    </tr>\n",
       "    <tr>\n",
       "      <th>25%</th>\n",
       "      <td>21.000000</td>\n",
       "      <td>16.000000</td>\n",
       "      <td>43.000000</td>\n",
       "      <td>33.000000</td>\n",
       "      <td>86.000000</td>\n",
       "      <td>4.0</td>\n",
       "      <td>6.0</td>\n",
       "      <td>2.000000</td>\n",
       "    </tr>\n",
       "    <tr>\n",
       "      <th>50%</th>\n",
       "      <td>27.000000</td>\n",
       "      <td>21.000000</td>\n",
       "      <td>53.000000</td>\n",
       "      <td>43.000000</td>\n",
       "      <td>96.000000</td>\n",
       "      <td>4.0</td>\n",
       "      <td>6.0</td>\n",
       "      <td>4.000000</td>\n",
       "    </tr>\n",
       "    <tr>\n",
       "      <th>75%</th>\n",
       "      <td>32.000000</td>\n",
       "      <td>27.000000</td>\n",
       "      <td>62.000000</td>\n",
       "      <td>54.000000</td>\n",
       "      <td>107.000000</td>\n",
       "      <td>4.0</td>\n",
       "      <td>6.0</td>\n",
       "      <td>5.000000</td>\n",
       "    </tr>\n",
       "    <tr>\n",
       "      <th>max</th>\n",
       "      <td>44.000000</td>\n",
       "      <td>41.000000</td>\n",
       "      <td>104.000000</td>\n",
       "      <td>101.000000</td>\n",
       "      <td>155.000000</td>\n",
       "      <td>4.0</td>\n",
       "      <td>6.0</td>\n",
       "      <td>6.000000</td>\n",
       "    </tr>\n",
       "  </tbody>\n",
       "</table>\n",
       "</div>"
      ],
      "text/plain": [
       "       player_1_score  player_2_score  player_1_moves  player_2_moves  \\\n",
       "count   250000.000000   250000.000000   250000.000000   250000.000000   \n",
       "mean        26.284656       21.715344       53.146928       43.451508   \n",
       "std          6.794640        6.794640       13.874382       14.368743   \n",
       "min          7.000000        4.000000        6.000000        4.000000   \n",
       "25%         21.000000       16.000000       43.000000       33.000000   \n",
       "50%         27.000000       21.000000       53.000000       43.000000   \n",
       "75%         32.000000       27.000000       62.000000       54.000000   \n",
       "max         44.000000       41.000000      104.000000      101.000000   \n",
       "\n",
       "         total_moves  n_start_marbles    n_cups     first_move  \n",
       "count  250000.000000         250000.0  250000.0  250000.000000  \n",
       "mean       96.598436              4.0       6.0       3.486100  \n",
       "std        14.867880              0.0       0.0       1.720122  \n",
       "min        26.000000              4.0       6.0       1.000000  \n",
       "25%        86.000000              4.0       6.0       2.000000  \n",
       "50%        96.000000              4.0       6.0       4.000000  \n",
       "75%       107.000000              4.0       6.0       5.000000  \n",
       "max       155.000000              4.0       6.0       6.000000  "
      ]
     },
     "execution_count": 21,
     "metadata": {},
     "output_type": "execute_result"
    }
   ],
   "source": [
    "filepath = '../data/all_simulations.csv'\n",
    "data = pd.read_csv(filepath)\n",
    "data.describe()"
   ]
  },
  {
   "cell_type": "markdown",
   "id": "6cc94e78-87f9-4b04-a145-6bcece4831e9",
   "metadata": {},
   "source": [
    "## Random-Random strategy, distribution of scores/moves"
   ]
  },
  {
   "cell_type": "code",
   "execution_count": 22,
   "id": "4168f49a-5968-44d7-bdc4-8c4ea655c36f",
   "metadata": {},
   "outputs": [
    {
     "data": {
      "image/png": "[encoded data removed]",
      "text/plain": [
       "<Figure size 1080x504 with 2 Axes>"
      ]
     },
     "metadata": {
      "needs_background": "light"
     },
     "output_type": "display_data"
    }
   ],
   "source": [
    "view = data[ (data['player_one_strategy'] == 'random') & (data['player_two_strategy'] == 'random') ]\n",
    "fig, ax = plt.subplots(1, 2, figsize=(15, 7))\n",
    "ax[0].hist(view['player_1_score'], label='Player 1', bins=20, histtype='step')\n",
    "ax[0].hist(view['player_2_score'], label='Player 2', bins=20, histtype='step')\n",
    "ax[0].set_xlabel('Player score')\n",
    "ax[0].set_ylabel('Count / bin')\n",
    "ax[0].legend()\n",
    "\n",
    "ax[1].hist(view['player_1_moves'], bins=20, histtype='step', label='Player 1')\n",
    "ax[1].hist(view['player_2_moves'], bins=20, histtype='step', label='Player 2')\n",
    "ax[1].set_xlabel('Moves')\n",
    "ax[1].set_ylabel('Count / bin')\n",
    "ax[1].legend()\n",
    "\n",
    "plt.show()"
   ]
  },
  {
   "cell_type": "markdown",
   "id": "3e8cb59d-c89f-4a79-a242-3664bac2fa0a",
   "metadata": {},
   "source": [
    "## Random-Random strategy: no. of moves for each game outcome"
   ]
  },
  {
   "cell_type": "code",
   "execution_count": 23,
   "id": "7bc0d6a4-79c8-4595-87c9-675cce6983d9",
   "metadata": {},
   "outputs": [
    {
     "data": {
      "image/png": "[encoded data removed]",
      "text/plain": [
       "<Figure size 360x360 with 1 Axes>"
      ]
     },
     "metadata": {
      "needs_background": "light"
     },
     "output_type": "display_data"
    }
   ],
   "source": [
    "fig, ax = plt.subplots(1, 1, figsize=(5, 5))\n",
    "\n",
    "ax.hist(view[view['player_1_result'] == 'win']['player_1_moves'],  label='Win',  bins=20, histtype='step', density=True)\n",
    "ax.hist(view[view['player_1_result'] == 'lose']['player_1_moves'], label='Lose', bins=20, histtype='step', density=True)\n",
    "ax.hist(view[view['player_1_result'] == 'draw']['player_1_moves'], label='Draw', bins=20, histtype='step', density=True)\n",
    "\n",
    "ax.set_xlabel('Player 1 moves')\n",
    "ax.set_ylabel('Count / bin')\n",
    "ax.legend()\n",
    "\n",
    "plt.show()"
   ]
  },
  {
   "cell_type": "markdown",
   "id": "cdc84c27-90c1-4827-be3b-00b4192f7313",
   "metadata": {},
   "source": [
    "## win rate vs first move"
   ]
  },
  {
   "cell_type": "code",
   "execution_count": 39,
   "id": "382d04b8-4d37-46a1-8a8f-a2fc61531f05",
   "metadata": {},
   "outputs": [
    {
     "data": {
      "image/png": "[encoded data removed]",
      "text/plain": [
       "<Figure size 360x360 with 1 Axes>"
      ]
     },
     "metadata": {
      "needs_background": "light"
     },
     "output_type": "display_data"
    }
   ],
   "source": [
    "initial_moves = view['first_move'].unique()\n",
    "win_probs  = pd.DataFrame(columns=['prob'], index=initial_moves, dtype=float)\n",
    "lose_probs = pd.DataFrame(columns=['prob'], index=initial_moves, dtype=float)\n",
    "draw_probs = pd.DataFrame(columns=['prob'], index=initial_moves, dtype=float)\n",
    "\n",
    "for move in initial_moves:\n",
    "    first_move_view = view[ view['first_move'] == move ]\n",
    "    norm = len(first_move_view)\n",
    "    \n",
    "    win_probs['prob'].loc[move]  = len(first_move_view[ first_move_view['player_1_result'] == 'win' ]) / norm\n",
    "    lose_probs['prob'].loc[move] = len(first_move_view[ first_move_view['player_1_result'] == 'lose' ]) / norm\n",
    "    draw_probs['prob'].loc[move] = len(first_move_view[ first_move_view['player_1_result'] == 'draw' ]) / norm\n",
    "    \n",
    "    \n",
    "fig, ax = plt.subplots(1, 1, figsize=(5, 5))\n",
    "\n",
    "ax.plot(win_probs,  label='Win')\n",
    "#ax.hist(view[view['player_1_result'] == 'lose']['player_1_moves'], label='Lose', bins=20, histtype='step', density=True)\n",
    "#ax.hist(view[view['player_1_result'] == 'draw']['player_1_moves'], label='Draw', bins=20, histtype='step', density=True)\n",
    "\n",
    "ax.set_xlabel('Player 1 moves')\n",
    "ax.set_ylabel('Count / bin')\n",
    "ax.legend()\n",
    "\n",
    "plt.show()"
   ]
  },
  {
   "cell_type": "code",
   "execution_count": null,
   "id": "ccab6701-9d9f-46e8-8f6f-5830a4c7c444",
   "metadata": {},
   "outputs": [],
   "source": []
  }
 ],
 "metadata": {
  "kernelspec": {
   "display_name": "Python 3 (ipykernel)",
   "language": "python",
   "name": "python3"
  },
  "language_info": {
   "codemirror_mode": {
    "name": "ipython",
    "version": 3
   },
   "file_extension": ".py",
   "mimetype": "text/x-python",
   "name": "python",
   "nbconvert_exporter": "python",
   "pygments_lexer": "ipython3",
   "version": "3.8.10"
  }
 },
 "nbformat": 4,
 "nbformat_minor": 5
}
