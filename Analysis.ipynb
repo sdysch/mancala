{
 "cells": [
  {
   "cell_type": "markdown",
   "id": "cc26e468-322e-4497-b954-0f88f06c97ce",
   "metadata": {},
   "source": [
    "# Analysis of mancala simulations"
   ]
  },
  {
   "cell_type": "code",
   "execution_count": 127,
   "id": "8a359e3d-96af-4601-be85-646114f6b885",
   "metadata": {},
   "outputs": [],
   "source": [
    "# imports\n",
    "import pandas as pd\n",
    "import numpy as np\n",
    "import matplotlib.pyplot as plt"
   ]
  },
  {
   "cell_type": "code",
   "execution_count": 128,
   "id": "d3c0e47e-ff75-465d-8a10-b30769507c4d",
   "metadata": {},
   "outputs": [
    {
     "name": "stdout",
     "output_type": "stream",
     "text": [
      "   player_1_score  player_2_score  player_1_moves  player_2_moves  \\\n",
      "0              35              13              70              31   \n",
      "1              34              14              79              38   \n",
      "2              40               8              75              26   \n",
      "3              40               8              83              29   \n",
      "4              29              19              75              46   \n",
      "\n",
      "   total_moves  n_start_marbles  n_cups player_1_result player_2_result  \\\n",
      "0          101                4       6             win            lose   \n",
      "1          117                4       6             win            lose   \n",
      "2          101                4       6             win            lose   \n",
      "3          112                4       6             win            lose   \n",
      "4          121                4       6             win            lose   \n",
      "\n",
      "   first_move player_one_strategy player_two_strategy  \n",
      "0           2           max_score              random  \n",
      "1           1           max_score              random  \n",
      "2           2           max_score              random  \n",
      "3           2           max_score              random  \n",
      "4           5           max_score              random  \n"
     ]
    }
   ],
   "source": [
    "filepath = 'data/output.csv'\n",
    "data = pd.read_csv(filepath)\n",
    "print(data.head())"
   ]
  },
  {
   "cell_type": "code",
   "execution_count": 129,
   "id": "1a158b47-dd1c-425d-b7ca-5f3a3c5890d4",
   "metadata": {},
   "outputs": [
    {
     "data": {
      "text/plain": [
       "<matplotlib.legend.Legend at 0x7f4a8e576b50>"
      ]
     },
     "execution_count": 129,
     "metadata": {},
     "output_type": "execute_result"
    },
    {
     "data": {
      "image/png": "[encoded data removed]",
      "text/plain": [
       "<Figure size 1080x504 with 2 Axes>"
      ]
     },
     "metadata": {
      "needs_background": "light"
     },
     "output_type": "display_data"
    }
   ],
   "source": [
    "fig, ax = plt.subplots(1, 2, figsize=(15, 7))\n",
    "ax[0].hist(data['player_1_score'], label='Player 1', bins=20, histtype='step')\n",
    "ax[0].hist(data['player_2_score'], label='Player 2', bins=20, histtype='step')\n",
    "ax[0].set_xlabel('Player score')\n",
    "ax[0].set_ylabel('Count / bin')\n",
    "ax[0].legend()\n",
    "\n",
    "ax[1].hist(data['player_1_moves'], bins=20, histtype='step', label='Player 1')\n",
    "ax[1].hist(data['player_2_moves'], bins=20, histtype='step', label='Player 2')\n",
    "ax[1].set_xlabel('Moves')\n",
    "ax[1].set_ylabel('Count / bin')\n",
    "ax[1].legend()"
   ]
  },
  {
   "cell_type": "code",
   "execution_count": 130,
   "id": "3451a114-1362-41cb-ae1b-447d8e5f751d",
   "metadata": {},
   "outputs": [
    {
     "data": {
      "text/plain": [
       "Text(0, 0.5, 'Count / bin')"
      ]
     },
     "execution_count": 130,
     "metadata": {},
     "output_type": "execute_result"
    },
    {
     "data": {
      "image/png": "[encoded data removed]",
      "text/plain": [
       "<Figure size 432x288 with 1 Axes>"
      ]
     },
     "metadata": {
      "needs_background": "light"
     },
     "output_type": "display_data"
    }
   ],
   "source": [
    "fig, ax = plt.subplots()\n",
    "ax.hist(data['total_moves'], bins=40, histtype='step')\n",
    "ax.set_xlabel('Total moves')\n",
    "ax.set_ylabel('Count / bin')"
   ]
  },
  {
   "cell_type": "markdown",
   "id": "b1a1fc2b-c751-4536-9b43-19d1f16b5f44",
   "metadata": {},
   "source": [
    "# Win probabilities"
   ]
  },
  {
   "cell_type": "code",
   "execution_count": 131,
   "id": "0eed2e9b-c816-49b9-ae75-73cb5a241ad4",
   "metadata": {},
   "outputs": [
    {
     "name": "stdout",
     "output_type": "stream",
     "text": [
      "0.989 0.007 0.004\n"
     ]
    }
   ],
   "source": [
    "def calculate_prob(data, column, value):\n",
    "    \"\"\" Calculates probability of column == value \"\"\"\n",
    "    return len(data[data[column] == value]) / len(data)\n",
    "\n",
    "player_1_win_prob  = calculate_prob(data, 'player_1_result', 'win')\n",
    "player_1_lose_prob = calculate_prob(data, 'player_1_result', 'lose')\n",
    "player_1_draw_prob = calculate_prob(data, 'player_1_result', 'draw')\n",
    "print(player_1_win_prob, player_1_lose_prob, player_1_draw_prob)"
   ]
  },
  {
   "cell_type": "markdown",
   "id": "2476b170-c8ff-45fe-a2ed-e3b88065f0dd",
   "metadata": {},
   "source": [
    "# Number of moves for each game result"
   ]
  },
  {
   "cell_type": "code",
   "execution_count": 132,
   "id": "f3a6252f-dd23-40e5-9eaf-a64040d0aca9",
   "metadata": {},
   "outputs": [
    {
     "data": {
      "text/plain": [
       "<matplotlib.legend.Legend at 0x7f4a8e46cd60>"
      ]
     },
     "execution_count": 132,
     "metadata": {},
     "output_type": "execute_result"
    },
    {
     "data": {
      "image/png": "[encoded data removed]",
      "text/plain": [
       "<Figure size 1080x504 with 2 Axes>"
      ]
     },
     "metadata": {
      "needs_background": "light"
     },
     "output_type": "display_data"
    }
   ],
   "source": [
    "fig, ax = plt.subplots(1, 2, figsize=(15, 7))\n",
    "ax[0].hist(data[data['player_1_result'] == 'win']['player_1_moves'], label='Win', bins=20, histtype='step')\n",
    "ax[0].hist(data[data['player_1_result'] == 'lose']['player_1_moves'], label='Lose', bins=20, histtype='step')\n",
    "ax[0].hist(data[data['player_1_result'] == 'draw']['player_1_moves'], label='Draw', bins=20, histtype='step')\n",
    "ax[0].set_xlabel('Player 1 moves')\n",
    "ax[0].set_ylabel('Count / bin')\n",
    "ax[0].legend()\n",
    "\n",
    "ax[1].hist(data[data['player_2_result'] == 'win']['player_2_moves'], label='Win', bins=20, histtype='step')\n",
    "ax[1].hist(data[data['player_2_result'] == 'lose']['player_2_moves'], label='Lose', bins=20, histtype='step')\n",
    "ax[1].hist(data[data['player_2_result'] == 'draw']['player_2_moves'], label='Draw', bins=20, histtype='step')\n",
    "ax[1].set_xlabel('Player 2 moves')\n",
    "ax[1].set_ylabel('Count / bin')\n",
    "ax[1].legend()"
   ]
  },
  {
   "cell_type": "code",
   "execution_count": null,
   "id": "597486a4-b99f-4f9a-afaf-6cfb30514330",
   "metadata": {},
   "outputs": [],
   "source": []
  }
 ],
 "metadata": {
  "kernelspec": {
   "display_name": "Python 3 (ipykernel)",
   "language": "python",
   "name": "python3"
  },
  "language_info": {
   "codemirror_mode": {
    "name": "ipython",
    "version": 3
   },
   "file_extension": ".py",
   "mimetype": "text/x-python",
   "name": "python",
   "nbconvert_exporter": "python",
   "pygments_lexer": "ipython3",
   "version": "3.8.10"
  }
 },
 "nbformat": 4,
 "nbformat_minor": 5
}
